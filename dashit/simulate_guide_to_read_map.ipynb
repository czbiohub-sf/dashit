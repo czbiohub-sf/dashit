{
 "cells": [
  {
   "cell_type": "markdown",
   "metadata": {},
   "source": [
    "Simulation to see if Python can handle a greedy dashdat optimization algorithm in a reasonable amount of time"
   ]
  },
  {
   "cell_type": "code",
   "execution_count": 31,
   "metadata": {},
   "outputs": [],
   "source": [
    "import numpy as np\n",
    "\n",
    "# Create a fake input file of 1 million guides referencing 100 million potential reads\n",
    "num_guides = int(1e6)\n",
    "num_reads = int(100e6)\n",
    "max_reads_per_guide = 100\n",
    "\n",
    "with open('data/test/fake_guides_reads_map.txt', 'w') as output_file:\n",
    "    for i in range(num_guides):\n",
    "        output_file.write('{}'.format(i))\n",
    "        reads = np.random.randint(num_reads, size=(np.random.randint(1, max_reads_per_guide),))\n",
    "        for r in reads:\n",
    "            output_file.write('\\t{}'.format(r))\n",
    "            \n",
    "        output_file.write('\\n')"
   ]
  },
  {
   "cell_type": "code",
   "execution_count": 54,
   "metadata": {},
   "outputs": [],
   "source": [
    "counts = np.zeros(num_guides, dtype=int)\n",
    "coverage = np.zeros(num_reads, dtype=bool)"
   ]
  },
  {
   "cell_type": "code",
   "execution_count": 33,
   "metadata": {},
   "outputs": [],
   "source": [
    "guides_to_reads = []\n",
    "\n",
    "with open('data/test/fake_guides_reads_map.txt', 'r') as input_file:\n",
    "    for l in input_file:\n",
    "        guides_to_reads.append([int(r) for r in l.split()[1:]])"
   ]
  },
  {
   "cell_type": "code",
   "execution_count": 34,
   "metadata": {},
   "outputs": [],
   "source": [
    "def update_counts(guides_to_reads, coverage, counts):\n",
    "    for i in range(num_guides):\n",
    "        c = 0\n",
    "        for r in guides_to_reads[i]:\n",
    "            if not coverage[r]:\n",
    "                c += 1\n",
    "        counts[i] = c"
   ]
  },
  {
   "cell_type": "code",
   "execution_count": 55,
   "metadata": {},
   "outputs": [],
   "source": [
    "update_counts(guides_to_reads, coverage, counts)"
   ]
  },
  {
   "cell_type": "code",
   "execution_count": 45,
   "metadata": {},
   "outputs": [],
   "source": [
    "def cover_reads_greedy(guides_to_reads, coverage, counts, num_guides):\n",
    "    guides = []\n",
    "    for i in range(num_guides):\n",
    "        # Get the best guide at this stage, that we're not already using\n",
    "        idx = counts.argsort()\n",
    "        for g in range(num_guides):\n",
    "            if idx[-g - 1] not in guides:\n",
    "                best_guide = idx[-g - 1]\n",
    "                guides.append(best_guide)\n",
    "                break\n",
    "                        \n",
    "        for r in guides_to_reads[best_guide]:\n",
    "            coverage[r] = True\n",
    "            \n",
    "        update_counts(guides_to_reads, coverage, counts)\n",
    "        \n",
    "    return guides"
   ]
  },
  {
   "cell_type": "code",
   "execution_count": 30,
   "metadata": {},
   "outputs": [
    {
     "data": {
      "text/plain": [
       "[]"
      ]
     },
     "execution_count": 30,
     "metadata": {},
     "output_type": "execute_result"
    }
   ],
   "source": [
    "guides_to_reads[0]"
   ]
  },
  {
   "cell_type": "code",
   "execution_count": 39,
   "metadata": {},
   "outputs": [
    {
     "data": {
      "text/plain": [
       "99"
      ]
     },
     "execution_count": 39,
     "metadata": {},
     "output_type": "execute_result"
    }
   ],
   "source": [
    "counts[counts.argsort()[-1]]"
   ]
  },
  {
   "cell_type": "code",
   "execution_count": 56,
   "metadata": {},
   "outputs": [
    {
     "name": "stdout",
     "output_type": "stream",
     "text": [
      "CPU times: user 8min 14s, sys: 1.01 s, total: 8min 15s\n",
      "Wall time: 8min 15s\n"
     ]
    }
   ],
   "source": [
    "%time guides = cover_reads_greedy(guides_to_reads, coverage, counts, 50)"
   ]
  },
  {
   "cell_type": "code",
   "execution_count": 47,
   "metadata": {},
   "outputs": [
    {
     "data": {
      "text/plain": [
       "[163302, 532178, 544574, 214177, 859263]"
      ]
     },
     "execution_count": 47,
     "metadata": {},
     "output_type": "execute_result"
    }
   ],
   "source": [
    "guides"
   ]
  },
  {
   "cell_type": "code",
   "execution_count": 53,
   "metadata": {},
   "outputs": [
    {
     "data": {
      "text/plain": [
       "[80056410,\n",
       " 28492734,\n",
       " 72089301,\n",
       " 2389200,\n",
       " 63687030,\n",
       " 21985330,\n",
       " 49552564,\n",
       " 11275318,\n",
       " 17958016,\n",
       " 12105407,\n",
       " 24014794,\n",
       " 18517779,\n",
       " 78096875,\n",
       " 54347800,\n",
       " 35029628,\n",
       " 52066314,\n",
       " 40474015,\n",
       " 18668642,\n",
       " 70317613,\n",
       " 53633595,\n",
       " 48931876,\n",
       " 14079313,\n",
       " 19299030,\n",
       " 45587746,\n",
       " 13639936,\n",
       " 52334444,\n",
       " 69905592,\n",
       " 9279188,\n",
       " 43343243,\n",
       " 60532516,\n",
       " 78077811,\n",
       " 23323746,\n",
       " 18917683,\n",
       " 1424497,\n",
       " 67843645,\n",
       " 17931034,\n",
       " 32524455,\n",
       " 18456162,\n",
       " 28598084,\n",
       " 61454378,\n",
       " 64901702,\n",
       " 99697053,\n",
       " 76118750,\n",
       " 45681700,\n",
       " 13050301,\n",
       " 35743828,\n",
       " 58451855,\n",
       " 99579190,\n",
       " 25264942,\n",
       " 41401423,\n",
       " 27308687,\n",
       " 77346570,\n",
       " 67308297,\n",
       " 2661316,\n",
       " 93034454,\n",
       " 6637394,\n",
       " 53772440,\n",
       " 3303182,\n",
       " 68608455,\n",
       " 3628046,\n",
       " 44697449,\n",
       " 37737830,\n",
       " 40593663,\n",
       " 28960940,\n",
       " 12884807,\n",
       " 79752696,\n",
       " 43673896,\n",
       " 9450340,\n",
       " 77143977,\n",
       " 26936051,\n",
       " 48973694,\n",
       " 21407488,\n",
       " 86668402,\n",
       " 66540798,\n",
       " 7498212,\n",
       " 36566796,\n",
       " 35804886,\n",
       " 2565128,\n",
       " 95159318,\n",
       " 3396805,\n",
       " 99456372,\n",
       " 21755499,\n",
       " 20831898,\n",
       " 88131430,\n",
       " 20614893,\n",
       " 75392539,\n",
       " 40588920,\n",
       " 32889278,\n",
       " 42285024,\n",
       " 36257664,\n",
       " 83791143,\n",
       " 65194405,\n",
       " 80313493,\n",
       " 93109800,\n",
       " 51814747,\n",
       " 66318637,\n",
       " 86563564,\n",
       " 66247724,\n",
       " 32242489]"
      ]
     },
     "execution_count": 53,
     "metadata": {},
     "output_type": "execute_result"
    }
   ],
   "source": [
    "guides_to_reads[163302]"
   ]
  },
  {
   "cell_type": "code",
   "execution_count": 49,
   "metadata": {},
   "outputs": [
    {
     "data": {
      "text/plain": [
       "0"
      ]
     },
     "execution_count": 49,
     "metadata": {},
     "output_type": "execute_result"
    }
   ],
   "source": [
    "counts[532178]"
   ]
  },
  {
   "cell_type": "code",
   "execution_count": null,
   "metadata": {},
   "outputs": [],
   "source": []
  }
 ],
 "metadata": {
  "kernelspec": {
   "display_name": "Python 3",
   "language": "python",
   "name": "python3"
  },
  "language_info": {
   "codemirror_mode": {
    "name": "ipython",
    "version": 3
   },
   "file_extension": ".py",
   "mimetype": "text/x-python",
   "name": "python",
   "nbconvert_exporter": "python",
   "pygments_lexer": "ipython3",
   "version": "3.6.3"
  }
 },
 "nbformat": 4,
 "nbformat_minor": 2
}
