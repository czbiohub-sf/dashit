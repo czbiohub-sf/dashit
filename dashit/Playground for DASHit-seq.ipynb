{
 "cells": [
  {
   "cell_type": "code",
   "execution_count": 1,
   "metadata": {},
   "outputs": [
    {
     "name": "stdout",
     "output_type": "stream",
     "text": [
      "/Users/dynerman/work/special_ops_crispr_tools/dashit/src\n"
     ]
    }
   ],
   "source": [
    "cd src"
   ]
  },
  {
   "cell_type": "code",
   "execution_count": 2,
   "metadata": {},
   "outputs": [],
   "source": [
    "import argparse\n",
    "import flash\n",
    "from Bio import SeqIO\n",
    "from ortools.linear_solver import pywraplp\n",
    "from common import Gene, Target"
   ]
  },
  {
   "cell_type": "code",
   "execution_count": 3,
   "metadata": {},
   "outputs": [],
   "source": [
    "filename = \"../../../dashit_data/human/RN45s.fasta\""
   ]
  },
  {
   "cell_type": "code",
   "execution_count": 18,
   "metadata": {},
   "outputs": [
    {
     "name": "stdout",
     "output_type": "stream",
     "text": [
      "hi  is missing a fasta file.\n"
     ]
    }
   ],
   "source": [
    "    sequences = SeqIO.parse(open(filename, 'r'), 'fasta')\n",
    "\n",
    "    genes = []\n",
    "    \n",
    "    for sequence in sequences:\n",
    "        new_gene = Gene('hi')\n",
    "        new_gene.seq = sequence.seq\n",
    "        new_gene.targets = []\n",
    "           \n",
    "        for i in flash.kmers_range(new_gene.seq, 23):\n",
    "            if 'G' == new_gene.seq[i+21] == new_gene.seq[i+22]:\n",
    "                new_gene.targets.append(Target(flash.forward_20mer_at(new_gene.seq, i, 'F'),\n",
    "                                               flash.cut_location((i, 'F'))))\n",
    "            if 'C' == sequence.seq[i] == sequence.seq[i+1]:\n",
    "                new_gene.targets.append(Target(flash.forward_20mer_at(new_gene.seq, i, 'R'),\n",
    "                                               flash.cut_location((i, 'R'))))\n",
    "\n",
    "        genes.append(new_gene)\n"
   ]
  },
  {
   "cell_type": "code",
   "execution_count": 5,
   "metadata": {},
   "outputs": [],
   "source": [
    "    solver = pywraplp.Solver('SolveIntegerProblem',\n",
    "                             pywraplp.Solver.CBC_MIXED_INTEGER_PROGRAMMING)\n",
    "\n",
    "    objective = solver.Objective()\n",
    "\n",
    "    sites_to_targets = {}\n",
    "\n",
    "    for gene in sequences:\n",
    "        for target_seq, target_loc in gene.targets:\n",
    "            if target_seq not in sites_to_targets:\n",
    "                sites_to_targets[target_seq] = [(gene, (target_seq,\n",
    "                                                        target_loc))]\n",
    "            else:\n",
    "                sites_to_targets[target_seq].append((gene, (target_seq,\n",
    "                                                            target_loc)))\n",
    "\n",
    "    site_variables = {}\n",
    "\n",
    "    for i, target_seq in enumerate(sites_to_targets):\n",
    "        site_variables[target_seq] = solver.IntVar(0, 1, 'x_{}'.format(i))\n",
    "        objective.SetCoefficient(site_variables[target_seq], 1)\n",
    "\n",
    "    objective.SetMinimization()    \n"
   ]
  },
  {
   "cell_type": "code",
   "execution_count": 6,
   "metadata": {},
   "outputs": [],
   "source": [
    "sequences = genes"
   ]
  },
  {
   "cell_type": "code",
   "execution_count": 8,
   "metadata": {},
   "outputs": [],
   "source": [
    "min_spacing = 50\n",
    "max_spacing = 200"
   ]
  },
  {
   "cell_type": "code",
   "execution_count": 9,
   "metadata": {},
   "outputs": [
    {
     "ename": "KeyboardInterrupt",
     "evalue": "",
     "output_type": "error",
     "traceback": [
      "\u001b[0;31m---------------------------------------------------------------------------\u001b[0m",
      "\u001b[0;31mKeyboardInterrupt\u001b[0m                         Traceback (most recent call last)",
      "\u001b[0;32m<ipython-input-9-845e2de77b02>\u001b[0m in \u001b[0;36m<module>\u001b[0;34m()\u001b[0m\n\u001b[1;32m      4\u001b[0m \u001b[0;32mfor\u001b[0m \u001b[0msequence\u001b[0m \u001b[0;32min\u001b[0m \u001b[0msequences\u001b[0m\u001b[0;34m:\u001b[0m\u001b[0;34m\u001b[0m\u001b[0m\n\u001b[1;32m      5\u001b[0m     \u001b[0;32mfor\u001b[0m \u001b[0mi\u001b[0m\u001b[0;34m,\u001b[0m \u001b[0;34m(\u001b[0m\u001b[0mseq\u001b[0m\u001b[0;34m,\u001b[0m \u001b[0mcut_loc\u001b[0m\u001b[0;34m)\u001b[0m \u001b[0;32min\u001b[0m \u001b[0menumerate\u001b[0m\u001b[0;34m(\u001b[0m\u001b[0msequence\u001b[0m\u001b[0;34m.\u001b[0m\u001b[0mtargets\u001b[0m\u001b[0;34m)\u001b[0m\u001b[0;34m:\u001b[0m\u001b[0;34m\u001b[0m\u001b[0m\n\u001b[0;32m----> 6\u001b[0;31m         nearby_targets = [ s for s, l in sequence.targets if l != cut_loc and\n\u001b[0m\u001b[1;32m      7\u001b[0m                            abs(l - cut_loc) < min_spacing ]\n\u001b[1;32m      8\u001b[0m \u001b[0;34m\u001b[0m\u001b[0m\n",
      "\u001b[0;32m<ipython-input-9-845e2de77b02>\u001b[0m in \u001b[0;36m<listcomp>\u001b[0;34m(.0)\u001b[0m\n\u001b[1;32m      5\u001b[0m     \u001b[0;32mfor\u001b[0m \u001b[0mi\u001b[0m\u001b[0;34m,\u001b[0m \u001b[0;34m(\u001b[0m\u001b[0mseq\u001b[0m\u001b[0;34m,\u001b[0m \u001b[0mcut_loc\u001b[0m\u001b[0;34m)\u001b[0m \u001b[0;32min\u001b[0m \u001b[0menumerate\u001b[0m\u001b[0;34m(\u001b[0m\u001b[0msequence\u001b[0m\u001b[0;34m.\u001b[0m\u001b[0mtargets\u001b[0m\u001b[0;34m)\u001b[0m\u001b[0;34m:\u001b[0m\u001b[0;34m\u001b[0m\u001b[0m\n\u001b[1;32m      6\u001b[0m         nearby_targets = [ s for s, l in sequence.targets if l != cut_loc and\n\u001b[0;32m----> 7\u001b[0;31m                            abs(l - cut_loc) < min_spacing ]\n\u001b[0m\u001b[1;32m      8\u001b[0m \u001b[0;34m\u001b[0m\u001b[0m\n\u001b[1;32m      9\u001b[0m         \u001b[0;32mif\u001b[0m \u001b[0mlen\u001b[0m\u001b[0;34m(\u001b[0m\u001b[0mnearby_targets\u001b[0m\u001b[0;34m)\u001b[0m \u001b[0;34m>\u001b[0m \u001b[0;36m0\u001b[0m\u001b[0;34m:\u001b[0m\u001b[0;34m\u001b[0m\u001b[0m\n",
      "\u001b[0;31mKeyboardInterrupt\u001b[0m: "
     ]
    }
   ],
   "source": [
    "    coverage_constraints = set()\n",
    "    spacing_constraints = set()\n",
    "\n",
    "    for sequence in sequences:\n",
    "        for i, (seq, cut_loc) in enumerate(sequence.targets):        \n",
    "            nearby_targets = [ s for s, l in sequence.targets if l != cut_loc and\n",
    "                               abs(l - cut_loc) < min_spacing ]\n",
    "        \n",
    "            if len(nearby_targets) > 0:\n",
    "                spacing_constraints.add(tuple(s for s in\n",
    "                                              nearby_targets + [seq]))\n",
    "\n",
    "            nearby_targets = [ s for s, l in sequence.targets if l != cut_loc and\n",
    "                               abs(l - cut_loc) < max_spacing ]\n",
    "        \n",
    "            if len(nearby_targets) > 0:\n",
    "                coverage_constraints.add(tuple(s for s in\n",
    "                                               nearby_targets + [seq])) \n"
   ]
  },
  {
   "cell_type": "code",
   "execution_count": 19,
   "metadata": {},
   "outputs": [
    {
     "data": {
      "text/plain": [
       "1"
      ]
     },
     "execution_count": 19,
     "metadata": {},
     "output_type": "execute_result"
    }
   ],
   "source": [
    "len(genes)"
   ]
  },
  {
   "cell_type": "code",
   "execution_count": 17,
   "metadata": {},
   "outputs": [
    {
     "data": {
      "text/plain": [
       "Seq('GCTGACACGCTGTCCTCTGGCGACCTGTCGCTGGAGAGGTTGGGCCTCCGGATG...GCG', SingleLetterAlphabet())"
      ]
     },
     "execution_count": 17,
     "metadata": {},
     "output_type": "execute_result"
    }
   ],
   "source": [
    "genes[3].seq"
   ]
  },
  {
   "cell_type": "code",
   "execution_count": 20,
   "metadata": {},
   "outputs": [],
   "source": [
    "import pysam"
   ]
  },
  {
   "cell_type": "code",
   "execution_count": 22,
   "metadata": {},
   "outputs": [],
   "source": [
    "?pysam.AlignedSegment"
   ]
  },
  {
   "cell_type": "code",
   "execution_count": 111,
   "metadata": {},
   "outputs": [],
   "source": [
    "header = { 'HD': {'VN':'1.0'}, 'SQ': [{'LN': 2000, 'SN': 'hello'}]}"
   ]
  },
  {
   "cell_type": "code",
   "execution_count": 112,
   "metadata": {},
   "outputs": [],
   "source": [
    "outf = pysam.AlignmentFile(\"test.bam\", \"wb\", header=header)"
   ]
  },
  {
   "cell_type": "code",
   "execution_count": 113,
   "metadata": {},
   "outputs": [],
   "source": [
    "a = pysam.AlignedSegment()\n",
    "a.query_name = 'what what'\n",
    "a.query_sequence = 'GCTGACACGCTGTCCTCTGGCGACCTGTCGCTGGAGAGGTTGGGCCTCCGGATGCGCGCG'\n",
    "a.reference_start = 0\n",
    "a.cigar = ((0, 60),)\n",
    "a.template_length = 60\n",
    "a.reference_id = 0\n",
    "a.next_reference_id = 0\n",
    "a.next_reference_start=199\n",
    "a.mapping_quality = 20\n",
    "\n",
    "a.query_qualities = pysam.qualitystring_to_array(\"<<<<<<<<<<<<<<<<<<<<<<<<<<<<<<<<<<<<<<<<<<<<<<:<9/,&,22;;<<<\")\n",
    "a.tags = ((\"NM\", 1),(\"RG\", \"L1\"))"
   ]
  },
  {
   "cell_type": "code",
   "execution_count": 114,
   "metadata": {},
   "outputs": [
    {
     "data": {
      "text/plain": [
       "150"
      ]
     },
     "execution_count": 114,
     "metadata": {},
     "output_type": "execute_result"
    }
   ],
   "source": [
    "outf.write(a)"
   ]
  },
  {
   "cell_type": "code",
   "execution_count": 115,
   "metadata": {},
   "outputs": [],
   "source": [
    "outf.close()"
   ]
  },
  {
   "cell_type": "code",
   "execution_count": 106,
   "metadata": {},
   "outputs": [],
   "source": [
    "?pysam.AlignedSegment.cigartuples"
   ]
  },
  {
   "cell_type": "code",
   "execution_count": 46,
   "metadata": {},
   "outputs": [
    {
     "data": {
      "text/plain": [
       "35"
      ]
     },
     "execution_count": 46,
     "metadata": {},
     "output_type": "execute_result"
    }
   ],
   "source": [
    "len('AGCTTAGCTAGCTACCTATATCTTGGTCTTGGCCG')"
   ]
  },
  {
   "cell_type": "code",
   "execution_count": null,
   "metadata": {},
   "outputs": [],
   "source": []
  }
 ],
 "metadata": {
  "kernelspec": {
   "display_name": "Python 3",
   "language": "python",
   "name": "python3"
  },
  "language_info": {
   "codemirror_mode": {
    "name": "ipython",
    "version": 3
   },
   "file_extension": ".py",
   "mimetype": "text/x-python",
   "name": "python",
   "nbconvert_exporter": "python",
   "pygments_lexer": "ipython3",
   "version": "3.6.3"
  }
 },
 "nbformat": 4,
 "nbformat_minor": 2
}
